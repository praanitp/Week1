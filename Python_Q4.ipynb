{
  "cells": [
    {
      "cell_type": "markdown",
      "metadata": {
        "id": "view-in-github",
        "colab_type": "text"
      },
      "source": [
        "<a href=\"https://colab.research.google.com/github/praanitp/Week1/blob/main/Python_Q4.ipynb\" target=\"_parent\"><img src=\"https://colab.research.google.com/assets/colab-badge.svg\" alt=\"Open In Colab\"/></a>"
      ]
    },
    {
      "cell_type": "code",
      "source": [
        "arr=[0,1,0,3,5,7,0]\n",
        "n=len(arr)\n",
        "pos=0\n",
        "for i in range(n):\n",
        "    if arr[i]!=0:\n",
        "      arr[pos]=arr[i]\n",
        "      pos+=1\n",
        "for i in range(pos,n):\n",
        "    arr[i]=0\n",
        "print(arr)"
      ],
      "metadata": {
        "id": "aT7gNaUdqI_T",
        "outputId": "06467202-3583-4931-a97a-ffec871d357f",
        "colab": {
          "base_uri": "https://localhost:8080/"
        }
      },
      "execution_count": 1,
      "outputs": [
        {
          "output_type": "stream",
          "name": "stdout",
          "text": [
            "[1, 3, 5, 7, 0, 0, 0]\n"
          ]
        }
      ]
    }
  ],
  "metadata": {
    "colab": {
      "toc_visible": true,
      "provenance": [],
      "include_colab_link": true
    },
    "kernelspec": {
      "display_name": "Python 3",
      "name": "python3"
    }
  },
  "nbformat": 4,
  "nbformat_minor": 0
}