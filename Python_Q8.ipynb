{
  "cells": [
    {
      "cell_type": "markdown",
      "metadata": {
        "id": "view-in-github",
        "colab_type": "text"
      },
      "source": [
        "<a href=\"https://colab.research.google.com/github/praanitp/Week1/blob/main/Python_Q8.ipynb\" target=\"_parent\"><img src=\"https://colab.research.google.com/assets/colab-badge.svg\" alt=\"Open In Colab\"/></a>"
      ]
    },
    {
      "cell_type": "code",
      "source": [
        "arr = [1, 2, 2, 3, 1, 4, 2]\n",
        "freq={}\n",
        "for i in arr:\n",
        "    if i in freq:\n",
        "        freq[i]+=1\n",
        "    else:\n",
        "        freq[i]=1\n",
        "print(freq)"
      ],
      "metadata": {
        "id": "aT7gNaUdqI_T",
        "outputId": "3b153adc-a9c7-4247-a447-6bbefd130dbe",
        "colab": {
          "base_uri": "https://localhost:8080/"
        }
      },
      "execution_count": 8,
      "outputs": [
        {
          "output_type": "stream",
          "name": "stdout",
          "text": [
            "Enter a string: MADAM\n",
            "The string is a palindrome.\n"
          ]
        }
      ]
    }
  ],
  "metadata": {
    "colab": {
      "toc_visible": true,
      "provenance": [],
      "include_colab_link": true
    },
    "kernelspec": {
      "display_name": "Python 3",
      "name": "python3"
    }
  },
  "nbformat": 4,
  "nbformat_minor": 0
}